{
 "cells": [
  {
   "cell_type": "markdown",
   "metadata": {},
   "source": [
    "## Problem 1"
   ]
  },
  {
   "cell_type": "markdown",
   "metadata": {},
   "source": [
    "Make a tuple containing natural numbers, the square of which is a multiple of 3, 4, but not a multiple of 8 and not exceeding 12345."
   ]
  },
  {
   "cell_type": "code",
   "execution_count": null,
   "metadata": {},
   "outputs": [],
   "source": [
    "tuple(i for i in range(1, 12345) if i**2 % 3 == 0 and i**2 % 4 == 0 and i**2 % 8 != 0)"
   ]
  },
  {
   "cell_type": "markdown",
   "metadata": {},
   "source": [
    "\n",
    "\n",
    "## Problem 2"
   ]
  },
  {
   "cell_type": "markdown",
   "metadata": {},
   "source": [
    "\n",
    "Write a function that takes a two-dimensional array and a string as input and returns an array rotated 90 degrees counterclockwise if the string 'left' was passed, and clockwise if the string 'right' was passed.\n",
    "\n",
    "Example for input: $\\begin{bmatrix} 1 & 2 & 3 \\\\ 4 & 5 & 6 \\\\ 7 & 8 & 9 \\end{bmatrix}$.\\\n",
    "If the string 'left' is passed, the function should return $\\begin{bmatrix} 3 & 6 & 9 \\\\ 2 & 5 & 8 \\\\ 1 & 4 & 7 \\end{bmatrix}$, and if the string 'right' is passed, the function should return $\\begin{bmatrix} 7 & 4 & 1 \\\\ 8 & 5 & 2 \\\\ 9 & 6 & 3 \\end{bmatrix}$."
   ]
  },
  {
   "cell_type": "code",
   "execution_count": null,
   "metadata": {},
   "outputs": [],
   "source": [
    "def rotate_matrix(matrix, string):\n",
    "    if string == 'left':\n",
    "        return [[row[-i] for row in matrix] for i in range(1, len(matrix) + 1)]\n",
    "    elif string == 'right':\n",
    "        return [[row[i] for row in matrix[::-1]] for i in range(len(matrix))]\n",
    "    else:\n",
    "        raise ValueError(\"Invalid string input\")\n",
    "\n",
    "# input_matrix = [[1, 2, 3], [4, 5, 6], [7, 8, 9]]\n",
    "# print(\"Rotated to the left:\")\n",
    "# for row in rotate_matrix(input_matrix, 'left'):\n",
    "#     print(row)\n",
    "# print(\"\\nRotated to the right:\")\n",
    "# for row in rotate_matrix(input_matrix, 'right'):\n",
    "#     print(row)\n"
   ]
  },
  {
   "cell_type": "markdown",
   "metadata": {},
   "source": [
    "## Problem 3"
   ]
  },
  {
   "cell_type": "markdown",
   "metadata": {},
   "source": [
    "Write a function that takes a string as input and returns a dictionary containing the number of occurrences of each character in the string.\n",
    "\n",
    "Example for the string 'hello, world!': {'h': 1, 'e': 1, 'l': 3, 'o': 2, ',': 1, ' ': 1, 'w': 1, 'r': 1, 'd': 1, '!': 1}."
   ]
  },
  {
   "cell_type": "code",
   "execution_count": null,
   "metadata": {},
   "outputs": [],
   "source": [
    "def dict_count_characters(string):\n",
    "    return {char: string.count(char) for char in string}\n",
    "\n",
    "# string = \"Hello, world!\"\n",
    "# print(dict_count_characters(string))\n",
    "# string = \"AAAaaa, it's really hot!!\"\n",
    "# print(dict_count_characters(string))"
   ]
  },
  {
   "cell_type": "markdown",
   "metadata": {},
   "source": [
    "## Problem 4"
   ]
  },
  {
   "cell_type": "markdown",
   "metadata": {},
   "source": [
    "### Implementing a Library Management System\n",
    "\n",
    "#### Description\n",
    "\n",
    "You are required to design and implement a system for managing books and users in a library. The system should allow for the management of books (adding, deleting, searching by various criteria) and users (registration, deletion, searching), as well as tracking the history of interactions between them (issuing and returning books).\n",
    "\n",
    "#### Tasks\n",
    "\n",
    "1. **`Book` Class**:\n",
    "   - Attributes: title, author, year of publication, ISBN, number of copies.\n",
    "   - Methods: constructor, methods to get information about the book, method to change the number of copies (when issuing and returning books).\n",
    "\n",
    "2. **`User` Class**:\n",
    "   - Attributes: user name, library card number, list of borrowed books.\n",
    "   - Methods: constructor, methods for user registration, methods for adding and removing books from the borrowed list.\n",
    "\n",
    "3. **`Library` Class**:\n",
    "   - Attributes: list of books, list of users, transaction history (who, when, which book was borrowed and returned).\n",
    "   - Methods: constructor, methods for adding and deleting books and users, methods for issuing and returning books, searching for books and users by various criteria, method to display the transaction history.\n",
    "\n",
    "#### Assignment\n",
    "\n",
    "1. Implement the `Book`, `User`, and `Library` classes with the specified attributes and methods.\n",
    "2. Create several books and users, and add them to the library system.\n",
    "3. Implement scenarios for issuing books to users and their return.\n",
    "4. Display the transaction history to show how books were issued and returned.\n"
   ]
  },
  {
   "cell_type": "code",
   "execution_count": null,
   "metadata": {},
   "outputs": [],
   "source": [
    "class Book:\n",
    "    def __init__(self, title, author, year, isbn, copies):\n",
    "        self.title = title\n",
    "        self.author = author\n",
    "        self.year = year\n",
    "        self.isbn = isbn\n",
    "        self.copies = copies\n",
    "\n",
    "    def get_title(self):\n",
    "        return self.title\n",
    "\n",
    "    def get_author(self):\n",
    "        return self.author\n",
    "\n",
    "    def get_year(self):\n",
    "        return self.year\n",
    "\n",
    "    def get_isbn(self):\n",
    "        return self.isbn\n",
    "\n",
    "    def get_copies(self):\n",
    "        return self.copies\n",
    "    \n",
    "    def get_info(self):\n",
    "        return f\"Information about the book:\\nTitle: {self.title}, Author: {self.author}, Year: {self.year}, ISBN: {self.isbn}, Copies: {self.copies}\"\n",
    "\n",
    "    def set_copies(self, copies):\n",
    "        self.copies = copies\n",
    "\n",
    "    def book_issue(self):\n",
    "        if self.copies > 0:\n",
    "            self.copies -= 1\n",
    "            return True\n",
    "        else:\n",
    "            print(f\"Sorry, '{self.title}' is currently unavailable.\")\n",
    "            return False\n",
    "    \n",
    "    def book_return(self):\n",
    "        self.copies += 1\n",
    "        \n",
    "\n",
    "class User:\n",
    "    def __init__(self, name, card, borrowed_books):\n",
    "        self.name = name\n",
    "        self.card = card\n",
    "        self.borrowed_books = borrowed_books\n",
    "    \n",
    "    def add_book(self, book):\n",
    "        self.borrowed_books.append(book)\n",
    "    \n",
    "    def remove_book(self, book):\n",
    "        if book in self.borrowed_books:\n",
    "            self.borrowed_books.remove(book)\n",
    "            book.book_return()\n",
    "            return True\n",
    "        else:\n",
    "            print(f\"Book '{book.get_title()}' is not in the borrowed list.\")\n",
    "            return False\n",
    "\n",
    "    def get_name(self):\n",
    "        return self.name\n",
    "\n",
    "    def get_card(self):\n",
    "        return self.card\n",
    "\n",
    "    def get_borrowed_books(self):\n",
    "        return self.borrowed_books\n",
    "\n",
    "    def register(self, library):\n",
    "        if self in library.users:\n",
    "            print(\"The user is already registered in this library\")\n",
    "        else:\n",
    "            library.users.append(self)\n",
    "\n",
    "\n",
    "class Library:\n",
    "    def __init__(self, books, users, history):\n",
    "        self.books = books\n",
    "        self.users = users\n",
    "        self.history = history\n",
    "        \n",
    "    def add_book(self, book):\n",
    "        self.books.append(book)\n",
    "        \n",
    "    def add_user(self, user):\n",
    "        self.users.append(user)\n",
    "        \n",
    "    def remove_book(self, book):\n",
    "        if book in self.books:\n",
    "            self.books.remove(book)\n",
    "            return True\n",
    "        else:\n",
    "            print(f\"Book '{book.get_title()}' is not in the library.\")\n",
    "            return False\n",
    "        \n",
    "    def remove_user(self, user):\n",
    "        if user in self.users:\n",
    "            self.users.remove(user)\n",
    "            return True\n",
    "        else:\n",
    "            print(f\"User '{user.get_name()}' is not in the library.\")\n",
    "            return False\n",
    "        \n",
    "    def issue_book(self, book, user):\n",
    "        if book in self.books and user in self.users:\n",
    "            if book.book_issue():\n",
    "                user.add_book(book)\n",
    "                self.history.append(f\"User {user.get_name()} has been issued book {book.get_title()} by author {book.get_author()}.\")\n",
    "                return True\n",
    "        print(f\"Book '{book.get_title()}' is not in the library or user '{user.get_name()}' is not registered.\")\n",
    "        return False\n",
    "        \n",
    "    def return_book(self, book, user):\n",
    "        if book in self.books and user in self.users:\n",
    "            if user.remove_book(book):\n",
    "                book.book_return()\n",
    "                self.history.append(f\"User {user.get_name()} has returned book {book.get_title()} by author {book.get_author()}.\")\n",
    "                return True\n",
    "        print(f\"Book '{book.get_title()}' is not in the library or user '{user.get_name()}' is not registered.\")\n",
    "        return False\n",
    "    \n",
    "    def search_book_by_title(self, title):\n",
    "        return [book for book in self.books if book.get_title() == title]\n",
    "    \n",
    "    def search_user_by_name(self, name):\n",
    "        return [user for user in self.users if user.get_name() == name]\n",
    "    \n",
    "    def search_book_by_author(self, author):\n",
    "        return [book for book in self.books if book.get_author() == author]\n",
    "    \n",
    "    def search_book_by_year(self, year):\n",
    "        return [book for book in self.books if book.get_year() == year]\n",
    "    \n",
    "    def search_book_by_isbn(self, isbn):\n",
    "        return [book for book in self.books if book.get_isbn() == isbn]\n",
    "    \n",
    "    def search_user_by_card(self, card):\n",
    "        return [user for user in self.users if user.get_card() == card]\n",
    "    \n",
    "    def show_history(self):\n",
    "        for row in self.history:\n",
    "            print(row)\n",
    "    \n",
    "# user = User(\"Alice\", \"12345\", [])\n",
    "# book = Book(\"1984\", \"George Orwell\", 1949, \"9780451524935\", 3)\n",
    "# library = Library([book], [user], [])\n",
    "\n",
    "# library.issue_book(book, user)\n",
    "# print(book.get_copies())\n",
    "# library.show_history()\n",
    "\n",
    "        "
   ]
  },
  {
   "cell_type": "markdown",
   "metadata": {},
   "source": [
    "## Problem 5*"
   ]
  },
  {
   "cell_type": "markdown",
   "metadata": {},
   "source": [
    "Explain why list `b` changes after the execution of the following code:\n",
    "\n",
    "```python\n",
    "a = [1, 2, 3]\n",
    "b = a\n",
    "a[0] = 4\n",
    "print(b)\n",
    "```"
   ]
  },
  {
   "cell_type": "markdown",
   "metadata": {},
   "source": [
    "Строчка 'b' = 'a' создает не новый список, который является копией старого. Переменная 'b' по сути является еще одной ссылкой на тот же самый список, на который ссылается 'a'."
   ]
  },
  {
   "cell_type": "markdown",
   "metadata": {},
   "source": [
    "## Problem 6*"
   ]
  },
  {
   "cell_type": "markdown",
   "metadata": {},
   "source": [
    "Let\n",
    "$$A = \\sum_{i=1}^{10000} \\frac{1}{i^2},\\quad B=\\sum_{i=10000}^{1} \\frac{1}{i^2}.$$\n",
    "Calculate the values of $A$ and $B$ and compare them. What do you observe? Explain why this happens. What is the best way to calculate the value of $\\sum\\limits_{i=1}^{10000} \\dfrac{1}{i^2}$?"
   ]
  },
  {
   "cell_type": "code",
   "execution_count": null,
   "metadata": {},
   "outputs": [],
   "source": [
    "a = sum([1 / (i * i) for i in range(1, 10001)])\n",
    "b = sum([1 / (i * i) for i in range(10000, 0, -1)])\n",
    "print(a)\n",
    "print(b)"
   ]
  },
  {
   "cell_type": "markdown",
   "metadata": {},
   "source": [
    "    What is the best way to calculate the value of $\\sum\\limits_{i=1}^{10000} \\dfrac{1}{i^2}$?"
   ]
  }
 ],
 "metadata": {
  "kernelspec": {
   "display_name": "Python 3",
   "language": "python",
   "name": "python3"
  },
  "language_info": {
   "codemirror_mode": {
    "name": "ipython",
    "version": 3
   },
   "file_extension": ".py",
   "mimetype": "text/x-python",
   "name": "python",
   "nbconvert_exporter": "python",
   "pygments_lexer": "ipython3",
   "version": "3.12.3"
  }
 },
 "nbformat": 4,
 "nbformat_minor": 2
}
